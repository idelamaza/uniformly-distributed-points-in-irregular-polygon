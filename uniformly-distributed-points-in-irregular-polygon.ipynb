{
 "cells": [
  {
   "cell_type": "markdown",
   "metadata": {
    "toc": true
   },
   "source": [
    "<h1>Table of Contents<span class=\"tocSkip\"></span></h1>\n",
    "<div class=\"toc\"><ul class=\"toc-item\"><li><span><a href=\"#Notebook-Setup\" data-toc-modified-id=\"Notebook-Setup-1\"><span class=\"toc-item-num\">1&nbsp;&nbsp;</span>Notebook Setup</a></span></li><li><span><a href=\"#Introduction\" data-toc-modified-id=\"Introduction-2\"><span class=\"toc-item-num\">2&nbsp;&nbsp;</span>Introduction</a></span></li><li><span><a href=\"#Motivation-example\" data-toc-modified-id=\"Motivation-example-3\"><span class=\"toc-item-num\">3&nbsp;&nbsp;</span>Motivation example</a></span></li><li><span><a href=\"#K-means-adapted-algorithm\" data-toc-modified-id=\"K-means-adapted-algorithm-4\"><span class=\"toc-item-num\">4&nbsp;&nbsp;</span>K-means adapted algorithm</a></span></li><li><span><a href=\"#Results\" data-toc-modified-id=\"Results-5\"><span class=\"toc-item-num\">5&nbsp;&nbsp;</span>Results</a></span><ul class=\"toc-item\"><li><span><a href=\"#Applying-it-to-the-previously-described-case-study\" data-toc-modified-id=\"Applying-it-to-the-previously-described-case-study-5.1\"><span class=\"toc-item-num\">5.1&nbsp;&nbsp;</span>Applying it to the previously described case study</a></span></li></ul></li></ul></div>"
   ]
  },
  {
   "cell_type": "markdown",
   "metadata": {
    "ExecuteTime": {
     "end_time": "2020-01-23T01:11:58.635044Z",
     "start_time": "2020-01-23T01:11:58.632214Z"
    }
   },
   "source": [
    "# Notebook Setup"
   ]
  },
  {
   "cell_type": "code",
   "execution_count": 17,
   "metadata": {
    "ExecuteTime": {
     "end_time": "2020-02-05T19:31:28.798670Z",
     "start_time": "2020-02-05T19:31:28.745691Z"
    }
   },
   "outputs": [
    {
     "name": "stdout",
     "output_type": "stream",
     "text": [
      "Libraries imported.\n"
     ]
    }
   ],
   "source": [
    "#Basic libraries\n",
    "import numpy as np\n",
    "import warnings #easier to ignore warnings\n",
    "warnings.filterwarnings('ignore')\n",
    "import requests\n",
    "from pandas.io.json import json_normalize \n",
    "import pandas as pd\n",
    "pd.set_option('display.max_columns', None) #for better exploratory analysis\n",
    "\n",
    "#Spatial analysis\n",
    "from shapely.geometry import Point, Polygon, MultiPoint\n",
    "\n",
    "#Progress bar\n",
    "from tqdm.notebook import tqdm\n",
    "\n",
    "#Machine learning\n",
    "from sklearn.cluster import KMeans\n",
    "\n",
    "#Data visualization\n",
    "import matplotlib.pyplot as plt\n",
    "%matplotlib inline\n",
    "import folium #map rendering library\n",
    "\n",
    "print('Libraries imported.')"
   ]
  },
  {
   "cell_type": "markdown",
   "metadata": {},
   "source": [
    "# Introduction"
   ]
  },
  {
   "cell_type": "markdown",
   "metadata": {},
   "source": [
    "This repository explains how a quick method for evenly placing a certain number of points within an irregular polygon has been developed."
   ]
  },
  {
   "cell_type": "markdown",
   "metadata": {},
   "source": [
    "# Motivation example"
   ]
  },
  {
   "cell_type": "markdown",
   "metadata": {
    "ExecuteTime": {
     "end_time": "2020-01-28T22:14:44.568888Z",
     "start_time": "2020-01-28T22:14:44.563192Z"
    }
   },
   "source": [
    "There may be many reasons to generate a uniformly distributed mesh of points within a certain 2D object. In this case, the main motivation comes from a case study with geospatial data and venue information API's. \n",
    "\n",
    "When it comes to fetching information from commercial venues and spatial features of a city, Foursquare's Places API is a very common tool to access this kind of data. However, when trying to scrape Foursquare's API in order to get all possible venues within a certain distance of a specific location, the API has its limits. \n",
    "\n",
    "**EXAMPLE**\n",
    "\n",
    "---"
   ]
  },
  {
   "cell_type": "markdown",
   "metadata": {},
   "source": [
    "Importing an polygon example from `polygon_example.csv`. This particular polygon corresponds to the boundary of a neighborhood in Barcelona. Its values represent longitude and latitude coordinates."
   ]
  },
  {
   "cell_type": "code",
   "execution_count": 2,
   "metadata": {
    "ExecuteTime": {
     "end_time": "2020-02-05T19:30:45.267164Z",
     "start_time": "2020-02-05T19:30:45.260414Z"
    }
   },
   "outputs": [
    {
     "data": {
      "text/plain": [
       "array([[ 2.1709089 , 41.40181727],\n",
       "       [ 2.17220607, 41.40082898],\n",
       "       [ 2.17297209, 41.40024664],\n",
       "       [ 2.17332455, 41.39998087],\n",
       "       [ 2.17408126, 41.39941028]])"
      ]
     },
     "execution_count": 2,
     "metadata": {},
     "output_type": "execute_result"
    }
   ],
   "source": [
    "polygon_coordinates = np.genfromtxt('polygon_example.csv', delimiter=',')\n",
    "polygon_coordinates[:5]"
   ]
  },
  {
   "cell_type": "markdown",
   "metadata": {
    "ExecuteTime": {
     "end_time": "2020-01-28T16:34:40.981583Z",
     "start_time": "2020-01-28T16:34:40.977115Z"
    }
   },
   "source": [
    "Once imported, we can visualize it in multiple ways. In this case, I create a `shapely` Polygon object:"
   ]
  },
  {
   "cell_type": "code",
   "execution_count": 3,
   "metadata": {
    "ExecuteTime": {
     "end_time": "2020-02-05T19:30:45.276706Z",
     "start_time": "2020-02-05T19:30:45.271230Z"
    }
   },
   "outputs": [
    {
     "data": {
      "image/svg+xml": [
       "<svg xmlns=\"http://www.w3.org/2000/svg\" xmlns:xlink=\"http://www.w3.org/1999/xlink\" width=\"100.0\" height=\"100.0\" viewBox=\"2.153689988851058 41.38451897751976 0.027559856633168955 0.019174156128286768\" preserveAspectRatio=\"xMinYMin meet\"><g transform=\"matrix(1,0,0,-1,0,82.78821211116781)\"><path fill-rule=\"evenodd\" fill=\"#66cc99\" stroke=\"#555555\" stroke-width=\"0.0005511971326633791\" opacity=\"0.6\" d=\"M 2.170908900255218,41.401817268809324 L 2.172206072548871,41.400828984304354 L 2.172972089509259,41.40024663706243 L 2.173324546710174,41.39998087281203 L 2.174081255295101,41.39941027801714 L 2.174290414258067,41.3992532023073 L 2.174736461722632,41.39891327101018 L 2.17502985790613,41.39868811595614 L 2.175421918027025,41.398396813639074 L 2.175792984315177,41.39812319442101 L 2.176098351600085,41.39788920492794 L 2.176559284742253,41.397542689472814 L 2.176568767596698,41.397535371190806 L 2.177005352853678,41.39719829967414 L 2.177055261505829,41.39716212223972 L 2.177124050213919,41.397110487832144 L 2.177395968113321,41.39690253047953 L 2.177644397184748,41.39671491466947 L 2.17781196226576,41.39659358317011 L 2.177461043905744,41.39632559705478 L 2.177053052037103,41.396030512448554 L 2.176684656929602,41.39574122232022 L 2.176030635356843,41.3952530900745 L 2.176042800681903,41.39524456602206 L 2.176069998345771,41.39521835079353 L 2.176083032601213,41.395204482504 L 2.17609602219227,41.39519036168311 L 2.176109016081306,41.39517495281899 L 2.176121202766192,41.39515905176841 L 2.176132533152634,41.39514275726264 L 2.176142959966247,41.3951260239259 L 2.176152457466048,41.39510899569415 L 2.176161025880099,41.39509165455424 L 2.176168604836052,41.39507404511164 L 2.176175181577646,41.39505623032766 L 2.176180743576128,41.3950382551503 L 2.176185301997083,41.39502018271218 L 2.176196033451426,41.39498500419046 L 2.176202606081405,41.39494572450147 L 2.176201873666112,41.39492604687643 L 2.176200104619321,41.39490510077922 L 2.17619733052281,41.39488417450857 L 2.176193575640362,41.394863241215575 L 2.176188791106114,41.394842381617785 L 2.176183024423139,41.39482162307771 L 2.176176275023701,41.39480101062864 L 2.176168518873356,41.3947805531058 L 2.176159826373081,41.39476035910308 L 2.176150150135357,41.394740392250974 L 2.176139560902194,41.39472073412328 L 2.176128034411494,41.39470141156854 L 2.176115665895315,41.39468246129836 L 2.17610245489923,41.39466391933922 L 2.176088425117804,41.39464580387552 L 2.17606991401427,41.394626395270016 L 2.176048662144628,41.394604264784554 L 2.176023927753564,41.39458131669594 L 2.175997220211324,41.394559273236446 L 2.175985605358425,41.39455074102051 L 2.175993286344342,41.394544941152425 L 2.17679590153061,41.39393920301219 L 2.176799609134489,41.39393640118247 L 2.177930749984583,41.39308265943145 L 2.17793446956503,41.39307984864262 L 2.179059373488841,41.3922307889954 L 2.17906060534306,41.392229851996305 L 2.180214027363635,41.391359213195166 L 2.180229110053369,41.39134782527328 L 2.179859179894687,41.391052194684505 L 2.177490084359251,41.3901639156194 L 2.177392417503349,41.39009153206711 L 2.175850816864573,41.38894897097363 L 2.173757538549923,41.38894845988471 L 2.173408853054215,41.38894837134461 L 2.172765375273975,41.38847424493633 L 2.172762175347235,41.388470599110526 L 2.171702322751796,41.38726300033842 L 2.171510191088967,41.38704408030611 L 2.171335976383983,41.386949579129805 L 2.17113803945272,41.38684220801977 L 2.170284247887462,41.38587855967321 L 2.170133021072095,41.38576560479823 L 2.16996327720245,41.385666534542125 L 2.169768906400506,41.38557368528371 L 2.169358344440711,41.38553971295062 L 2.164713785844913,41.38593019761458 L 2.16416813603317,41.38634212107179 L 2.165392235959263,41.387256417030436 L 2.165111047313345,41.3874586007568 L 2.164123749853817,41.38818911259655 L 2.162984326644295,41.38905178345865 L 2.161865653763127,41.3899001459584 L 2.161864627456717,41.38990089511294 L 2.160731374887053,41.390749698661175 L 2.160729188228489,41.39075138512955 L 2.159606293931444,41.39159975754988 L 2.159598468799919,41.39160551924161 L 2.15847064368393,41.39245459199879 L 2.157355315847636,41.393306213091876 L 2.156229280179519,41.394174228380315 L 2.1562114347053,41.3941879870717 L 2.155112793348449,41.39502978575793 L 2.154710724281916,41.395317932342074 L 2.155710715849695,41.39557093762824 L 2.155904348799861,41.39561993769378 L 2.158651313819739,41.396315028189136 L 2.159226474037774,41.396460556459395 L 2.159545496476451,41.396700095037865 L 2.161572967757531,41.39822236641799 L 2.161597023139445,41.39824042698059 L 2.161841343057058,41.39842386019204 L 2.162908155711874,41.399224797388065 L 2.164108393773839,41.40012587190628 L 2.165248230542722,41.400981565381066 L 2.166218154386184,41.40170967640378 L 2.16622469293711,41.40170475615721 L 2.167353488143064,41.400855340237875 L 2.168664993104692,41.40183820368251 L 2.169778032664533,41.40267239821719 L 2.170127647104217,41.402404770573526 L 2.170393641606455,41.40220702884267 L 2.170718226080838,41.40196069004314 L 2.170908900255218,41.401817268809324 z\" /></g></svg>"
      ],
      "text/plain": [
       "<shapely.geometry.polygon.Polygon at 0x10d68b310>"
      ]
     },
     "execution_count": 3,
     "metadata": {},
     "output_type": "execute_result"
    }
   ],
   "source": [
    "polygon = Polygon(polygon_coordinates)\n",
    "polygon"
   ]
  },
  {
   "cell_type": "markdown",
   "metadata": {},
   "source": [
    "Using shapely eases some tasks, like finding the centroid of the polygon for example:"
   ]
  },
  {
   "cell_type": "code",
   "execution_count": 4,
   "metadata": {
    "ExecuteTime": {
     "end_time": "2020-02-05T19:30:45.332588Z",
     "start_time": "2020-02-05T19:30:45.278963Z"
    }
   },
   "outputs": [
    {
     "data": {
      "image/png": "[encoded data removed]",
      "text/plain": [
       "<Figure size 432x288 with 1 Axes>"
      ]
     },
     "metadata": {
      "needs_background": "light"
     },
     "output_type": "display_data"
    }
   ],
   "source": [
    "centroid = polygon.centroid\n",
    "x_pol,y_pol = polygon.exterior.xy\n",
    "x_cen,y_cen = centroid.coords[0]\n",
    "\n",
    "fig, ax = plt.subplots()\n",
    "ax.plot(x_pol,y_pol)\n",
    "ax.plot(x_cen,y_cen, marker='o')\n",
    "plt.axis('off')\n",
    "plt.show()"
   ]
  },
  {
   "cell_type": "markdown",
   "metadata": {},
   "source": [
    "Defining Foursquare's API credentials and taking a query request at the centroid:"
   ]
  },
  {
   "cell_type": "code",
   "execution_count": 5,
   "metadata": {
    "ExecuteTime": {
     "end_time": "2020-02-05T19:30:45.617033Z",
     "start_time": "2020-02-05T19:30:45.334478Z"
    }
   },
   "outputs": [
    {
     "name": "stdout",
     "output_type": "stream",
     "text": [
      "126 venues found\n"
     ]
    }
   ],
   "source": [
    "CLIENT_ID = 'FZWQT5RYYRNBRD3KYK50VXNZ2APAF5MTKDCNEAEK1T0EWAQG' # your Foursquare ID\n",
    "CLIENT_SECRET = 'UQFRDRPQM1JNCB3TSLXKZNMECFJWSBYOCU2N2KGPQFMVMKIY' # your Foursquare Secret\n",
    "VERSION = '20180601'\n",
    "radius = 750\n",
    "lng,lat = centroid.coords[0]\n",
    "url = 'https://api.foursquare.com/v2/venues/search?&client_id={}&client_secret={}&v={}&intent=explore&ll={},{}&radius=750&limit=1000'.format(CLIENT_ID,\n",
    "                                                                         CLIENT_SECRET,\n",
    "                                                                         VERSION,\n",
    "                                                                         lat,\n",
    "                                                                         lng\n",
    "                                                                         )\n",
    "#Request query\n",
    "results = requests.get(url).json()\n",
    "print('{} venues found'.format(len(results['response']['venues'])))\n",
    "lng_list = [venue['location']['lng'] for venue in results['response']['venues']]\n",
    "lat_list = [venue['location']['lat'] for venue in results['response']['venues']]"
   ]
  },
  {
   "cell_type": "code",
   "execution_count": 6,
   "metadata": {
    "ExecuteTime": {
     "end_time": "2020-02-05T19:30:45.917382Z",
     "start_time": "2020-02-05T19:30:45.619124Z"
    }
   },
   "outputs": [
    {
     "data": {
      "image/png": "[encoded data removed]",
      "text/plain": [
       "<Figure size 432x288 with 1 Axes>"
      ]
     },
     "metadata": {
      "needs_background": "light"
     },
     "output_type": "display_data"
    }
   ],
   "source": [
    "fig, ax = plt.subplots()\n",
    "ax.plot(x_pol,y_pol)\n",
    "ax.scatter(x_cen,y_cen, marker='o', s = 20, color='r')\n",
    "#Plotting the venues\n",
    "for lng,lat in zip(lng_list,lat_list):\n",
    "    ax.scatter(lng,lat, marker='.', s = 4, color = 'k')\n",
    "#Plotting the query radius\n",
    "radius_lat_units = 750/111320 #meters to lat transformation\n",
    "circle1 = plt.Circle((x_cen, y_cen), radius_lat_units, color='r', alpha=0.2)\n",
    "ax.add_artist(circle1)\n",
    "plt.axis('off')\n",
    "plt.show()"
   ]
  },
  {
   "cell_type": "markdown",
   "metadata": {},
   "source": [
    "We can see how Foursquare's API fails to retrieve venues uniformly within the given radius, and it only provides 126 results. These results are concentrated around the query location. \n",
    "\n",
    "Moreover, even if it in its [online docs]() explicitly says that:\n",
    "\"*(within the `intent` = 'browse' parameter) A region to search can be defined by including either the `ll` and `radius` parameters, or the `sw` and `ne`*\"\n",
    "The radius parameter is somehow ignore by the API:"
   ]
  },
  {
   "cell_type": "code",
   "execution_count": 7,
   "metadata": {
    "ExecuteTime": {
     "end_time": "2020-02-05T19:30:46.112870Z",
     "start_time": "2020-02-05T19:30:45.919089Z"
    }
   },
   "outputs": [
    {
     "name": "stdout",
     "output_type": "stream",
     "text": [
      "126 venues found\n"
     ]
    }
   ],
   "source": [
    "radius = 15\n",
    "lng,lat = centroid.coords[0]\n",
    "url = 'https://api.foursquare.com/v2/\\\n",
    "venues/search?&client_id={}&client_secret={}&\\\n",
    "v={}&intent=explore&ll={},{}&radius={}&limit=1000'.format(CLIENT_ID,\n",
    "                                                          CLIENT_SECRET,\n",
    "                                                          VERSION,\n",
    "                                                          lat,\n",
    "                                                          lng,\n",
    "                                                          radius\n",
    "                                                         )\n",
    "#Request query\n",
    "results = requests.get(url).json()\n",
    "print('{} venues found'.format(len(results['response']['venues'])))"
   ]
  },
  {
   "cell_type": "markdown",
   "metadata": {},
   "source": [
    "# K-means adapted algorithm\n",
    "\n"
   ]
  },
  {
   "cell_type": "markdown",
   "metadata": {},
   "source": [
    "This class generates a grid of points (defaults to 100x100, but can be modified according to the desired scale) on top of any irregular polygon.\n",
    "\n",
    "It then determines which points are within the polygon or outside of it.\n",
    "\n",
    "Finally it performs a k-means clustering of the inner points. The k-means algorithm itself has inside its optimization objective function, the goal of finding the maximum distance between clusters' centroids. Therefore, it will automatically distribute a certain number of points (the clusters' centroids) evenly within the polygon.\n",
    "\n",
    "In practice, the k-means algorithm is very fast (one of the fastest clustering algorithms available), but it falls in local minima. That's why it can be useful to restart it several times (n_init) parameter."
   ]
  },
  {
   "cell_type": "code",
   "execution_count": 9,
   "metadata": {
    "ExecuteTime": {
     "end_time": "2020-02-05T19:30:46.336877Z",
     "start_time": "2020-02-05T19:30:46.315379Z"
    }
   },
   "outputs": [],
   "source": [
    "import numpy as np\n",
    "import matplotlib.pyplot as plt\n",
    "from sklearn.cluster import KMeans\n",
    "from shapely.geometry import Point, Polygon, MultiPoint\n",
    "\n",
    "class PointsDistributor():\n",
    "    \"\"\"\n",
    "    Evenly spacing of a certain number of points within an irregular polygon.\n",
    "    In order to do so it first generates a grid of points \n",
    "    (defaults to 100x100, but can be modified according to the desired scale) \n",
    "    on top of any irregular polygon.\n",
    "    \n",
    "    Then it determines which points are within the polygon or outside of it.\n",
    "    \n",
    "    Finally it performs a k-means clustering of the inner points. \n",
    "    The k-means algorithm itself has inside its optimization objective function, \n",
    "    the goal of finding the maximum distance between clusters' centroids. \n",
    "    Therefore, it will automatically distribute a certain number of points \n",
    "    (the clusters' centroids) evenly within the polygon.\n",
    "    \n",
    "    \"\"\"\n",
    "    def __init__(self, coords, grid_size =(100,100)):\n",
    "        \"\"\"\n",
    "        Input arguments:\n",
    "            coords: polygon boundary coordinates (long,lat)\n",
    "            grid_size: number of points in each side of the initial grid\n",
    "        \"\"\"\n",
    "        self.coords = coords\n",
    "        self.polygon = Polygon(self.coords) \n",
    "        self._generate_grid(grid_size)\n",
    "    \n",
    "    ### Auxiliary functions ###\n",
    "    def _generate_grid(self, grid_size):\n",
    "        self.dim_range = np.ptp(self.coords, axis = 0)\n",
    "        delta = self.dim_range*[1/item for item in (100,100)]\n",
    "        SW = (self.polygon.bounds[0], self.polygon.bounds[1])\n",
    "\n",
    "        self.inner_pts = []\n",
    "        self.outer_pts = []\n",
    "\n",
    "        for i in range(100):\n",
    "            for j in range(100):\n",
    "                p = Point(SW + (i,j)*delta)\n",
    "                if self.polygon.contains(p):\n",
    "                    self.inner_pts.append(p)\n",
    "                else:\n",
    "                    self.outer_pts.append(p)\n",
    "        self.X = np.array([pt.coords[0] for pt in self.inner_pts])\n",
    "    \n",
    "    def _create_inner_clusters(self):\n",
    "        self.inner_clusters = []\n",
    "        for label in range(self.n):\n",
    "            my_members = (self.labels == label)\n",
    "            pts = self.X[my_members, :]\n",
    "            self.inner_clusters.append(MultiPoint(pts).convex_hull)\n",
    "            \n",
    "    ### Callable functions ###\n",
    "    def view_polygon(self):\n",
    "        centroid = self.polygon.centroid\n",
    "        x_cen,y_cen = centroid.coords[0]\n",
    "        x_pol,y_pol = self.polygon.exterior.xy\n",
    "\n",
    "        fig, ax = plt.subplots()\n",
    "        ax.plot(x_pol,y_pol)\n",
    "        ax.plot(x_cen,y_cen, marker='o')\n",
    "        plt.axis('off')\n",
    "        plt.show()\n",
    "        \n",
    "    def view_grid(self):\n",
    "        centroid = self.polygon.centroid\n",
    "        x_cen,y_cen = centroid.coords[0]\n",
    "        x_pol,y_pol = self.polygon.exterior.xy\n",
    "        x_inner_pts = [pt.coords[0][0] for pt in self.inner_pts]\n",
    "        y_inner_pts = [pt.coords[0][1] for pt in self.inner_pts]\n",
    "        x_outer_pts = [pt.coords[0][0] for pt in self.outer_pts]\n",
    "        y_outer_pts = [pt.coords[0][1] for pt in self.outer_pts]\n",
    "\n",
    "        fig, ax = plt.subplots()\n",
    "        ax.plot(x_pol,y_pol)\n",
    "        ax.scatter(x_cen,y_cen, marker='o', s= 30, color= 'k')\n",
    "        ax.scatter(x_inner_pts,y_inner_pts, marker='o', s= 0.5, color= 'b')\n",
    "        ax.scatter(x_outer_pts,y_outer_pts, marker='o', s= 0.5, color= 'r')\n",
    "        plt.axis('off')\n",
    "        plt.show()\n",
    "    \n",
    "    def place_points(self, n):\n",
    "        self.n = n\n",
    "        k_means = KMeans(init=\"k-means++\", n_clusters=n, n_init=10)\n",
    "        k_means.fit(self.X)\n",
    "        self.labels = k_means.labels_\n",
    "        self.cluster_centers = k_means.cluster_centers_\n",
    "        self._create_inner_clusters()\n",
    "    \n",
    "    def view_point_placement(self):\n",
    "        fig,ax = plt.subplots()\n",
    "        colors = plt.cm.Spectral(np.linspace(0, 1, len(set(self.labels))))\n",
    "        for k, col in zip(range(len(self.cluster_centers)), colors):\n",
    "            # create a list of all datapoints, where the datapoitns that are \n",
    "            # in the cluster (ex. cluster 0) are labeled as true, else they are\n",
    "            # labeled as false.\n",
    "            my_members = (self.labels == k)\n",
    "            # define the centroid, or cluster center.\n",
    "            cluster_center = self.cluster_centers[k]\n",
    "            # plot the datapoints with color col.\n",
    "            ax.plot(self.X[my_members, 0], self.X[my_members, 1], 'w', markerfacecolor=col, marker='.')\n",
    "            # plot the centroids with specified color, but with a darker outline\n",
    "            ax.plot(cluster_center[0], cluster_center[1], 'o', markerfacecolor=col,  markeredgecolor='k', markersize=6)\n",
    "        \n",
    "        x_pol,y_pol = self.polygon.exterior.xy\n",
    "        ax.plot(x_pol,y_pol)\n",
    "        ax.set_title('{} uniformly distributed points'.format(self.n), fontsize = 12)\n",
    "        plt.axis('off')\n",
    "        plt.show()\n",
    "    \n",
    "    ### Results evaluation functions ###\n",
    "    \n",
    "    def results_summary(self):\n",
    "        print('Number of points: {}'.format(self.n))\n",
    "        print('Total area of primitive polygon: {}'.format(self.polygon.area))\n",
    "        cluster_areas = [pol.area for pol in self.inner_clusters]\n",
    "        cluster_area_mean = np.mean(cluster_areas)\n",
    "        cluster_area_std_dev = np.std(cluster_areas)\n",
    "        print('Inner cluster area distribution: {} ± {}'.format(cluster_area_mean,\n",
    "                                                                cluster_area_std_dev\n",
    "                                                               ))\n",
    "    \n",
    "    ### Data retrieving functions ###\n",
    "    \n",
    "    def get_inner_points(self):  \n",
    "        return self.X\n",
    "    \n",
    "    def get_cluster_centers(self):\n",
    "        return self.cluster_centers\n",
    "    \n",
    "    def get_labels(self):\n",
    "        return self.labels\n",
    "    \n",
    "    def get_clusters(self):\n",
    "        return self.inner_clusters"
   ]
  },
  {
   "cell_type": "markdown",
   "metadata": {},
   "source": [
    "# Results"
   ]
  },
  {
   "cell_type": "code",
   "execution_count": 10,
   "metadata": {
    "ExecuteTime": {
     "end_time": "2020-02-05T19:30:46.772329Z",
     "start_time": "2020-02-05T19:30:46.338600Z"
    }
   },
   "outputs": [
    {
     "data": {
      "image/png": "[encoded data removed]",
      "text/plain": [
       "<Figure size 432x288 with 1 Axes>"
      ]
     },
     "metadata": {
      "needs_background": "light"
     },
     "output_type": "display_data"
    }
   ],
   "source": [
    "PD = PointsDistributor(polygon_coordinates)\n",
    "PD.view_polygon()"
   ]
  },
  {
   "cell_type": "code",
   "execution_count": 11,
   "metadata": {
    "ExecuteTime": {
     "end_time": "2020-02-05T19:30:47.060479Z",
     "start_time": "2020-02-05T19:30:46.773776Z"
    }
   },
   "outputs": [
    {
     "data": {
      "image/png": "[encoded data removed]",
      "text/plain": [
       "<Figure size 432x288 with 1 Axes>"
      ]
     },
     "metadata": {
      "needs_background": "light"
     },
     "output_type": "display_data"
    }
   ],
   "source": [
    "PD.view_grid()"
   ]
  },
  {
   "cell_type": "code",
   "execution_count": 12,
   "metadata": {
    "ExecuteTime": {
     "end_time": "2020-02-05T19:30:47.385785Z",
     "start_time": "2020-02-05T19:30:47.062266Z"
    }
   },
   "outputs": [
    {
     "data": {
      "image/png": "[encoded data removed]",
      "text/plain": [
       "<Figure size 432x288 with 1 Axes>"
      ]
     },
     "metadata": {
      "needs_background": "light"
     },
     "output_type": "display_data"
    }
   ],
   "source": [
    "PD.place_points(10)\n",
    "PD.view_point_placement()"
   ]
  },
  {
   "cell_type": "code",
   "execution_count": 13,
   "metadata": {
    "ExecuteTime": {
     "end_time": "2020-02-05T19:30:47.391632Z",
     "start_time": "2020-02-05T19:30:47.387765Z"
    }
   },
   "outputs": [
    {
     "data": {
      "text/plain": [
       "array([[ 2.17629449, 41.39163003],\n",
       "       [ 2.16385474, 41.39135744],\n",
       "       [ 2.16626309, 41.39882316],\n",
       "       [ 2.16853776, 41.39412802],\n",
       "       [ 2.16309616, 41.39611026],\n",
       "       [ 2.16769222, 41.3879536 ],\n",
       "       [ 2.17170568, 41.39051601],\n",
       "       [ 2.17402537, 41.39611759],\n",
       "       [ 2.15897088, 41.39427189],\n",
       "       [ 2.17050998, 41.39940806]])"
      ]
     },
     "execution_count": 13,
     "metadata": {},
     "output_type": "execute_result"
    }
   ],
   "source": [
    "PD.get_cluster_centers()"
   ]
  },
  {
   "cell_type": "markdown",
   "metadata": {},
   "source": [
    "## Applying it to the previously described case study"
   ]
  },
  {
   "cell_type": "markdown",
   "metadata": {},
   "source": []
  },
  {
   "cell_type": "code",
   "execution_count": 14,
   "metadata": {
    "ExecuteTime": {
     "end_time": "2020-02-05T19:30:47.395559Z",
     "start_time": "2020-02-05T19:30:47.393335Z"
    }
   },
   "outputs": [],
   "source": [
    "CLIENT_ID = 'FZWQT5RYYRNBRD3KYK50VXNZ2APAF5MTKDCNEAEK1T0EWAQG' # your Foursquare ID\n",
    "CLIENT_SECRET = 'UQFRDRPQM1JNCB3TSLXKZNMECFJWSBYOCU2N2KGPQFMVMKIY' # your Foursquare Secret\n",
    "VERSION = '20180601'"
   ]
  },
  {
   "cell_type": "code",
   "execution_count": 24,
   "metadata": {
    "ExecuteTime": {
     "end_time": "2020-02-05T19:36:55.555884Z",
     "start_time": "2020-02-05T19:36:51.538805Z"
    }
   },
   "outputs": [
    {
     "name": "stdout",
     "output_type": "stream",
     "text": [
      "Performing the API calls:\n"
     ]
    },
    {
     "data": {
      "application/vnd.jupyter.widget-view+json": {
       "model_id": "087c14f18b3e4e2fba2d87f1c8f1846e",
       "version_major": 2,
       "version_minor": 0
      },
      "text/plain": [
       "HBox(children=(FloatProgress(value=0.0, max=15.0), HTML(value='')))"
      ]
     },
     "metadata": {},
     "output_type": "display_data"
    },
    {
     "name": "stdout",
     "output_type": "stream",
     "text": [
      "\n",
      "Checking which venues are inside the polygon:\n"
     ]
    },
    {
     "data": {
      "application/vnd.jupyter.widget-view+json": {
       "model_id": "f736930ab4414289bd449081d8b481b8",
       "version_major": 2,
       "version_minor": 0
      },
      "text/plain": [
       "HBox(children=(FloatProgress(value=0.0, max=1816.0), HTML(value='')))"
      ]
     },
     "metadata": {},
     "output_type": "display_data"
    },
    {
     "name": "stdout",
     "output_type": "stream",
     "text": [
      "\n"
     ]
    }
   ],
   "source": [
    "PD = PointsDistributor(polygon_coordinates)\n",
    "PD.place_points(15)\n",
    "query_points = PD.get_cluster_centers()\n",
    "print('Performing the API calls:')\n",
    "all_venues = []\n",
    "for point in tqdm(query_points, total = len(query_points)):\n",
    "    lng,lat = point[0],point[1]\n",
    "    url = 'https://api.foursquare.com/v2/venues/search?&client_id={}&client_secret={}&v={}&intent=explore&ll={},{}&limit=1000'.format(CLIENT_ID,\n",
    "                                                                     CLIENT_SECRET,\n",
    "                                                                     VERSION,\n",
    "                                                                     lat,\n",
    "                                                                     lng\n",
    "                                                                     )\n",
    "    #Request query\n",
    "    results = requests.get(url).json()\n",
    "    all_venues += [(venue['location']['lng'],venue['location']['lat']) for venue in results['response']['venues']]\n",
    "#Removing duplicates\n",
    "all_venues = list(set(all_venues))\n",
    "#Removing venues outside the polygon\n",
    "print('Checking which venues are inside the polygon:')\n",
    "venue_list = []\n",
    "for venue in tqdm(all_venues, total = len(all_venues)):\n",
    "    if polygon.contains(Point(venue[0],venue[1])):\n",
    "        venue_list.append(venue)"
   ]
  },
  {
   "cell_type": "code",
   "execution_count": 25,
   "metadata": {
    "ExecuteTime": {
     "end_time": "2020-02-05T19:37:00.114944Z",
     "start_time": "2020-02-05T19:36:55.643723Z"
    }
   },
   "outputs": [
    {
     "data": {
      "image/png": "[encoded data removed]",
      "text/plain": [
       "<Figure size 432x288 with 1 Axes>"
      ]
     },
     "metadata": {
      "needs_background": "light"
     },
     "output_type": "display_data"
    }
   ],
   "source": [
    "fig, ax = plt.subplots()\n",
    "ax.plot(x_pol,y_pol)\n",
    "ax.scatter(x_cen,y_cen, marker='o', s = 20, color='r')\n",
    "#Plotting the venues\n",
    "for venue in all_venues:\n",
    "    ax.scatter(venue[0],venue[1], marker='.', s = 2, color = 'k')\n",
    "plt.axis('off')\n",
    "plt.show()"
   ]
  },
  {
   "cell_type": "markdown",
   "metadata": {},
   "source": [
    "We can observe that the API totally fails at retrieving venues within the radius. Therefore let's plot only the ones inside the polygon:"
   ]
  },
  {
   "cell_type": "code",
   "execution_count": 26,
   "metadata": {
    "ExecuteTime": {
     "end_time": "2020-02-05T19:37:51.452739Z",
     "start_time": "2020-02-05T19:37:46.839325Z"
    }
   },
   "outputs": [
    {
     "data": {
      "image/png": "[encoded data removed]",
      "text/plain": [
       "<Figure size 432x288 with 1 Axes>"
      ]
     },
     "metadata": {
      "needs_background": "light"
     },
     "output_type": "display_data"
    }
   ],
   "source": [
    "fig, ax = plt.subplots()\n",
    "ax.plot(x_pol,y_pol)\n",
    "ax.scatter(x_cen,y_cen, marker='o', s = 20, color='r')\n",
    "#Plotting the venues\n",
    "for venue in venue_list:\n",
    "    ax.scatter(venue[0],venue[1], marker='.', s = 2, color = 'k')\n",
    "plt.axis('off')\n",
    "plt.show()"
   ]
  },
  {
   "cell_type": "markdown",
   "metadata": {},
   "source": [
    "We still need more query points within the polygon:"
   ]
  },
  {
   "cell_type": "code",
   "execution_count": 28,
   "metadata": {
    "ExecuteTime": {
     "end_time": "2020-02-05T19:42:05.084608Z",
     "start_time": "2020-02-05T19:40:31.280222Z"
    }
   },
   "outputs": [
    {
     "name": "stdout",
     "output_type": "stream",
     "text": [
      "Performing the API calls:\n"
     ]
    },
    {
     "data": {
      "application/vnd.jupyter.widget-view+json": {
       "model_id": "cc5574a39c4345b5a7926bdef14df985",
       "version_major": 2,
       "version_minor": 0
      },
      "text/plain": [
       "HBox(children=(FloatProgress(value=0.0, max=200.0), HTML(value='')))"
      ]
     },
     "metadata": {},
     "output_type": "display_data"
    },
    {
     "name": "stdout",
     "output_type": "stream",
     "text": [
      "\n",
      "Checking which venues are inside the polygon:\n"
     ]
    },
    {
     "data": {
      "application/vnd.jupyter.widget-view+json": {
       "model_id": "12e63380105049fe9ac199e4835c1bf2",
       "version_major": 2,
       "version_minor": 0
      },
      "text/plain": [
       "HBox(children=(FloatProgress(value=0.0, max=9806.0), HTML(value='')))"
      ]
     },
     "metadata": {},
     "output_type": "display_data"
    },
    {
     "name": "stdout",
     "output_type": "stream",
     "text": [
      "\n",
      "Plotting the venues:\n"
     ]
    },
    {
     "data": {
      "application/vnd.jupyter.widget-view+json": {
       "model_id": "e7eec86cf6984c36b65605d0b5607c4d",
       "version_major": 2,
       "version_minor": 0
      },
      "text/plain": [
       "HBox(children=(FloatProgress(value=0.0, max=8692.0), HTML(value='')))"
      ]
     },
     "metadata": {},
     "output_type": "display_data"
    },
    {
     "name": "stdout",
     "output_type": "stream",
     "text": [
      "\n"
     ]
    },
    {
     "data": {
      "image/png": "[encoded data removed]",
      "text/plain": [
       "<Figure size 432x288 with 1 Axes>"
      ]
     },
     "metadata": {
      "needs_background": "light"
     },
     "output_type": "display_data"
    }
   ],
   "source": [
    "PD = PointsDistributor(polygon_coordinates)\n",
    "PD.place_points(200)\n",
    "query_points = PD.get_cluster_centers()\n",
    "print('Performing the API calls:')\n",
    "all_venues = []\n",
    "for point in tqdm(query_points, total = len(query_points)):\n",
    "    lng,lat = point[0],point[1]\n",
    "    url = 'https://api.foursquare.com/v2/venues/search?&client_id={}&client_secret={}&v={}&intent=explore&ll={},{}&limit=1000'.format(CLIENT_ID,\n",
    "                                                                     CLIENT_SECRET,\n",
    "                                                                     VERSION,\n",
    "                                                                     lat,\n",
    "                                                                     lng\n",
    "                                                                     )\n",
    "    #Request query\n",
    "    results = requests.get(url).json()\n",
    "    all_venues += [(venue['location']['lng'],venue['location']['lat']) for venue in results['response']['venues']]\n",
    "#Removing duplicates\n",
    "all_venues = list(set(all_venues))\n",
    "#Removing venues outside the polygon\n",
    "print('Checking which venues are inside the polygon:')\n",
    "venue_list = []\n",
    "for venue in tqdm(all_venues, total = len(all_venues)):\n",
    "    if polygon.contains(Point(venue[0],venue[1])):\n",
    "        venue_list.append(venue)\n",
    "fig, ax = plt.subplots()\n",
    "ax.plot(x_pol,y_pol)\n",
    "ax.scatter(x_cen,y_cen, marker='o', s = 20, color='r')\n",
    "#Plotting the venues\n",
    "print('Plotting the venues:')\n",
    "for venue in tqdm(venue_list, total= len(venue_list)):\n",
    "    ax.scatter(venue[0],venue[1], marker='.', s = 2, color = 'k')\n",
    "plt.axis('off')\n",
    "plt.show()"
   ]
  },
  {
   "cell_type": "markdown",
   "metadata": {},
   "source": [
    "We can check how many venues are fetched depending on the number of different API calls:"
   ]
  },
  {
   "cell_type": "code",
   "execution_count": 35,
   "metadata": {
    "ExecuteTime": {
     "end_time": "2020-02-05T20:07:01.967820Z",
     "start_time": "2020-02-05T19:49:13.418780Z"
    }
   },
   "outputs": [
    {
     "data": {
      "application/vnd.jupyter.widget-view+json": {
       "model_id": "58123bb307344101b94a91fdd370d8e3",
       "version_major": 2,
       "version_minor": 0
      },
      "text/plain": [
       "HBox(children=(FloatProgress(value=0.0, max=29.0), HTML(value='')))"
      ]
     },
     "metadata": {},
     "output_type": "display_data"
    },
    {
     "name": "stdout",
     "output_type": "stream",
     "text": [
      "\n"
     ]
    },
    {
     "data": {
      "text/plain": [
       "[1216,\n",
       " 2374,\n",
       " 3531,\n",
       " 4686,\n",
       " 5679,\n",
       " 6508,\n",
       " 7101,\n",
       " 7545,\n",
       " 7891,\n",
       " 8147,\n",
       " 8402,\n",
       " 8521,\n",
       " 8579,\n",
       " 8589,\n",
       " 8634,\n",
       " 8636,\n",
       " 8679,\n",
       " 8665,\n",
       " 8686,\n",
       " 8684,\n",
       " 8696,\n",
       " 8701,\n",
       " 8695,\n",
       " 8699,\n",
       " 8698,\n",
       " 8700,\n",
       " 8700,\n",
       " 8697,\n",
       " 8699]"
      ]
     },
     "execution_count": 35,
     "metadata": {},
     "output_type": "execute_result"
    }
   ],
   "source": [
    "def calculate_venue_num(call_num):\n",
    "    PD = PointsDistributor(polygon_coordinates)\n",
    "    PD.place_points(call_num)\n",
    "    query_points = PD.get_cluster_centers()\n",
    "    all_venues = []\n",
    "    for point in query_points:\n",
    "        lng,lat = point[0],point[1]\n",
    "        url = 'https://api.foursquare.com/v2/venues/search?&client_id={}&client_secret={}&v={}&intent=explore&ll={},{}&limit=1000'.format(CLIENT_ID,\n",
    "                                                                         CLIENT_SECRET,\n",
    "                                                                         VERSION,\n",
    "                                                                         lat,\n",
    "                                                                         lng\n",
    "                                                                         )\n",
    "        #Request query\n",
    "        results = requests.get(url).json()\n",
    "        all_venues += [(venue['location']['lng'],venue['location']['lat']) for venue in results['response']['venues']]\n",
    "    #Removing duplicates\n",
    "    all_venues = list(set(all_venues))\n",
    "    #Removing venues outside the polygon\n",
    "    venue_list = []\n",
    "    for venue in all_venues:\n",
    "        if polygon.contains(Point(venue[0],venue[1])):\n",
    "            venue_list.append(venue)\n",
    "            \n",
    "    return len(venue_list)\n",
    "\n",
    "calls = np.arange(10,300,10)\n",
    "venue_num = []\n",
    "for call_num in tqdm(calls, total = len(calls)):\n",
    "    venue_num.append(calculate_venue_num(call_num)) "
   ]
  },
  {
   "cell_type": "code",
   "execution_count": 37,
   "metadata": {
    "ExecuteTime": {
     "end_time": "2020-02-05T20:32:34.872064Z",
     "start_time": "2020-02-05T20:32:34.726445Z"
    }
   },
   "outputs": [
    {
     "data": {
      "image/png": "[encoded data removed]",
      "text/plain": [
       "<Figure size 432x288 with 1 Axes>"
      ]
     },
     "metadata": {
      "needs_background": "light"
     },
     "output_type": "display_data"
    }
   ],
   "source": [
    "import seaborn as sns\n",
    "sns.lineplot(x= calls, y= venue_num)\n",
    "plt.xlabel('API calls')\n",
    "plt.ylabel('# Venues retrieved')\n",
    "plt.show()"
   ]
  },
  {
   "cell_type": "code",
   "execution_count": null,
   "metadata": {},
   "outputs": [],
   "source": []
  }
 ],
 "metadata": {
  "hide_input": false,
  "kernelspec": {
   "display_name": "Python 3",
   "language": "python",
   "name": "python3"
  },
  "language_info": {
   "codemirror_mode": {
    "name": "ipython",
    "version": 3
   },
   "file_extension": ".py",
   "mimetype": "text/x-python",
   "name": "python",
   "nbconvert_exporter": "python",
   "pygments_lexer": "ipython3",
   "version": "3.7.6"
  },
  "toc": {
   "base_numbering": 1,
   "nav_menu": {},
   "number_sections": true,
   "sideBar": true,
   "skip_h1_title": false,
   "title_cell": "Table of Contents",
   "title_sidebar": "Contents",
   "toc_cell": true,
   "toc_position": {},
   "toc_section_display": true,
   "toc_window_display": false
  },
  "varInspector": {
   "cols": {
    "lenName": 16,
    "lenType": 16,
    "lenVar": 40
   },
   "kernels_config": {
    "python": {
     "delete_cmd_postfix": "",
     "delete_cmd_prefix": "del ",
     "library": "var_list.py",
     "varRefreshCmd": "print(var_dic_list())"
    },
    "r": {
     "delete_cmd_postfix": ") ",
     "delete_cmd_prefix": "rm(",
     "library": "var_list.r",
     "varRefreshCmd": "cat(var_dic_list()) "
    }
   },
   "position": {
    "height": "144px",
    "left": "1112px",
    "right": "20px",
    "top": "114px",
    "width": "350px"
   },
   "types_to_exclude": [
    "module",
    "function",
    "builtin_function_or_method",
    "instance",
    "_Feature"
   ],
   "window_display": false
  }
 },
 "nbformat": 4,
 "nbformat_minor": 2
}
